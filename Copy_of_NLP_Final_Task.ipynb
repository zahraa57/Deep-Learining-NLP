{
  "cells": [
    {
      "cell_type": "markdown",
      "metadata": {
        "id": "view-in-github",
        "colab_type": "text"
      },
      "source": [
        "<a href=\"https://colab.research.google.com/github/zahraa57/Deep-Learining-NLP/blob/main/Copy_of_NLP_Final_Task.ipynb\" target=\"_parent\"><img src=\"https://colab.research.google.com/assets/colab-badge.svg\" alt=\"Open In Colab\"/></a>"
      ]
    },
    {
      "cell_type": "markdown",
      "metadata": {
        "id": "eduI1Kbxyjyq"
      },
      "source": [
        "### Objective:\n",
        "- The objective from this task is to use your NLP skills to build a ML model can <b>classify the news categories</b>.\n",
        "- Try hard to get the maximum value of the preferable evaluation metric using any technique.\n",
        "- <b>Concat headlines and short descriptions</b> and use them in classification. "
      ]
    },
    {
      "cell_type": "markdown",
      "metadata": {
        "id": "eUiqMpPqyjyu"
      },
      "source": [
        "### Time:\n",
        "- This task mustn't take more than <b>3 hours</b>.\n",
        "    - Load Data and EDA : 30 minutes\n",
        "    - Cleaning and Preprocessing : 60 Minutes\n",
        "    - Modelling and Enhancement : 60 Minutes\n",
        "    - Extratime : 30 minutes"
      ]
    },
    {
      "cell_type": "markdown",
      "source": [
        "### Fixed Rules:\n",
        "- train test split 80% : 20%\n",
        "- all random seeds = 42"
      ],
      "metadata": {
        "id": "DilHGxwO426N"
      }
    },
    {
      "cell_type": "markdown",
      "source": [
        "# Delivery:\n",
        "## Through this [form](https://forms.gle/PshJQw2bTa48Ligz7)"
      ],
      "metadata": {
        "id": "ewUHzJdO3ZSX"
      }
    },
    {
      "cell_type": "markdown",
      "source": [
        "> ### Take a deep breath, read the instructions again, and then start"
      ],
      "metadata": {
        "id": "74XgKj5-5M3I"
      }
    },
    {
      "cell_type": "markdown",
      "source": [
        "## Load Libraries"
      ],
      "metadata": {
        "id": "u-PT_N_B5zlJ"
      }
    },
    {
      "cell_type": "code",
      "source": [
        "import pandas as pd\n",
        "import numpy as np\n",
        "import matplotlib.pyplot as plt\n",
        "import nltk\n",
        "import re, html, unicodedata ,string\n",
        "from nltk.tokenize import word_tokenize\n",
        "from nltk.corpus import stopwords\n",
        "nltk.download('punkt')\n",
        "nltk.download('omw-1.4')\n",
        "from nltk.corpus import stopwords\n",
        "nltk.download('stopwords')\n",
        "stop_words = stopwords.words('english')\n",
        "from nltk.stem import WordNetLemmatizer\n",
        "nltk.download('wordnet')\n",
        "from nltk.corpus import wordnet\n",
        "from keras.preprocessing.text import text_to_word_sequence\n",
        "from keras.preprocessing.text import Tokenizer \n",
        "from keras import models\n",
        "from keras import layers\n",
        "from keras import losses\n",
        "from keras import metrics\n",
        "from keras import optimizers"
      ],
      "metadata": {
        "id": "a7PbDuob3Xqo",
        "colab": {
          "base_uri": "https://localhost:8080/"
        },
        "outputId": "9006b00d-280b-45e4-acaa-447be3eadead"
      },
      "execution_count": null,
      "outputs": [
        {
          "output_type": "stream",
          "name": "stderr",
          "text": [
            "[nltk_data] Downloading package punkt to /root/nltk_data...\n",
            "[nltk_data]   Package punkt is already up-to-date!\n",
            "[nltk_data] Downloading package omw-1.4 to /root/nltk_data...\n",
            "[nltk_data]   Package omw-1.4 is already up-to-date!\n",
            "[nltk_data] Downloading package stopwords to /root/nltk_data...\n",
            "[nltk_data]   Package stopwords is already up-to-date!\n",
            "[nltk_data] Downloading package wordnet to /root/nltk_data...\n",
            "[nltk_data]   Package wordnet is already up-to-date!\n"
          ]
        }
      ]
    },
    {
      "cell_type": "code",
      "source": [
        "from google.colab import drive\n",
        "drive.mount('/content/drive')"
      ],
      "metadata": {
        "colab": {
          "base_uri": "https://localhost:8080/"
        },
        "id": "Sn622nt_sA6B",
        "outputId": "dcf03471-4da3-4b9a-f0a2-c395272be8b9"
      },
      "execution_count": null,
      "outputs": [
        {
          "output_type": "stream",
          "name": "stdout",
          "text": [
            "Drive already mounted at /content/drive; to attempt to forcibly remount, call drive.mount(\"/content/drive\", force_remount=True).\n"
          ]
        }
      ]
    },
    {
      "cell_type": "markdown",
      "source": [
        "## Load Dataset"
      ],
      "metadata": {
        "id": "MGy_FvHj52cp"
      }
    },
    {
      "cell_type": "code",
      "source": [
        "df = pd.read_json('/content/drive/MyDrive/nlp/Dataset.json', lines=True)"
      ],
      "metadata": {
        "id": "LlCwFrw654CY"
      },
      "execution_count": null,
      "outputs": []
    },
    {
      "cell_type": "code",
      "source": [
        "df.head()"
      ],
      "metadata": {
        "id": "wpr2Gg8B548V",
        "colab": {
          "base_uri": "https://localhost:8080/",
          "height": 337
        },
        "outputId": "421262af-a0d3-47f8-a230-0e516977db3e"
      },
      "execution_count": null,
      "outputs": [
        {
          "output_type": "execute_result",
          "data": {
            "text/plain": [
              "        category                                           headline  \\\n",
              "0          CRIME  There Were 2 Mass Shootings In Texas Last Week...   \n",
              "1  ENTERTAINMENT  Will Smith Joins Diplo And Nicky Jam For The 2...   \n",
              "2  ENTERTAINMENT    Hugh Grant Marries For The First Time At Age 57   \n",
              "3  ENTERTAINMENT  Jim Carrey Blasts 'Castrato' Adam Schiff And D...   \n",
              "4  ENTERTAINMENT  Julianna Margulies Uses Donald Trump Poop Bags...   \n",
              "\n",
              "           authors                                               link  \\\n",
              "0  Melissa Jeltsen  https://www.huffingtonpost.com/entry/texas-ama...   \n",
              "1    Andy McDonald  https://www.huffingtonpost.com/entry/will-smit...   \n",
              "2       Ron Dicker  https://www.huffingtonpost.com/entry/hugh-gran...   \n",
              "3       Ron Dicker  https://www.huffingtonpost.com/entry/jim-carre...   \n",
              "4       Ron Dicker  https://www.huffingtonpost.com/entry/julianna-...   \n",
              "\n",
              "                                   short_description       date  \n",
              "0  She left her husband. He killed their children... 2018-05-26  \n",
              "1                           Of course it has a song. 2018-05-26  \n",
              "2  The actor and his longtime girlfriend Anna Ebe... 2018-05-26  \n",
              "3  The actor gives Dems an ass-kicking for not fi... 2018-05-26  \n",
              "4  The \"Dietland\" actress said using the bags is ... 2018-05-26  "
            ],
            "text/html": [
              "\n",
              "  <div id=\"df-933f7d04-6129-4910-8590-446e33dbc2d8\">\n",
              "    <div class=\"colab-df-container\">\n",
              "      <div>\n",
              "<style scoped>\n",
              "    .dataframe tbody tr th:only-of-type {\n",
              "        vertical-align: middle;\n",
              "    }\n",
              "\n",
              "    .dataframe tbody tr th {\n",
              "        vertical-align: top;\n",
              "    }\n",
              "\n",
              "    .dataframe thead th {\n",
              "        text-align: right;\n",
              "    }\n",
              "</style>\n",
              "<table border=\"1\" class=\"dataframe\">\n",
              "  <thead>\n",
              "    <tr style=\"text-align: right;\">\n",
              "      <th></th>\n",
              "      <th>category</th>\n",
              "      <th>headline</th>\n",
              "      <th>authors</th>\n",
              "      <th>link</th>\n",
              "      <th>short_description</th>\n",
              "      <th>date</th>\n",
              "    </tr>\n",
              "  </thead>\n",
              "  <tbody>\n",
              "    <tr>\n",
              "      <th>0</th>\n",
              "      <td>CRIME</td>\n",
              "      <td>There Were 2 Mass Shootings In Texas Last Week...</td>\n",
              "      <td>Melissa Jeltsen</td>\n",
              "      <td>https://www.huffingtonpost.com/entry/texas-ama...</td>\n",
              "      <td>She left her husband. He killed their children...</td>\n",
              "      <td>2018-05-26</td>\n",
              "    </tr>\n",
              "    <tr>\n",
              "      <th>1</th>\n",
              "      <td>ENTERTAINMENT</td>\n",
              "      <td>Will Smith Joins Diplo And Nicky Jam For The 2...</td>\n",
              "      <td>Andy McDonald</td>\n",
              "      <td>https://www.huffingtonpost.com/entry/will-smit...</td>\n",
              "      <td>Of course it has a song.</td>\n",
              "      <td>2018-05-26</td>\n",
              "    </tr>\n",
              "    <tr>\n",
              "      <th>2</th>\n",
              "      <td>ENTERTAINMENT</td>\n",
              "      <td>Hugh Grant Marries For The First Time At Age 57</td>\n",
              "      <td>Ron Dicker</td>\n",
              "      <td>https://www.huffingtonpost.com/entry/hugh-gran...</td>\n",
              "      <td>The actor and his longtime girlfriend Anna Ebe...</td>\n",
              "      <td>2018-05-26</td>\n",
              "    </tr>\n",
              "    <tr>\n",
              "      <th>3</th>\n",
              "      <td>ENTERTAINMENT</td>\n",
              "      <td>Jim Carrey Blasts 'Castrato' Adam Schiff And D...</td>\n",
              "      <td>Ron Dicker</td>\n",
              "      <td>https://www.huffingtonpost.com/entry/jim-carre...</td>\n",
              "      <td>The actor gives Dems an ass-kicking for not fi...</td>\n",
              "      <td>2018-05-26</td>\n",
              "    </tr>\n",
              "    <tr>\n",
              "      <th>4</th>\n",
              "      <td>ENTERTAINMENT</td>\n",
              "      <td>Julianna Margulies Uses Donald Trump Poop Bags...</td>\n",
              "      <td>Ron Dicker</td>\n",
              "      <td>https://www.huffingtonpost.com/entry/julianna-...</td>\n",
              "      <td>The \"Dietland\" actress said using the bags is ...</td>\n",
              "      <td>2018-05-26</td>\n",
              "    </tr>\n",
              "  </tbody>\n",
              "</table>\n",
              "</div>\n",
              "      <button class=\"colab-df-convert\" onclick=\"convertToInteractive('df-933f7d04-6129-4910-8590-446e33dbc2d8')\"\n",
              "              title=\"Convert this dataframe to an interactive table.\"\n",
              "              style=\"display:none;\">\n",
              "        \n",
              "  <svg xmlns=\"http://www.w3.org/2000/svg\" height=\"24px\"viewBox=\"0 0 24 24\"\n",
              "       width=\"24px\">\n",
              "    <path d=\"M0 0h24v24H0V0z\" fill=\"none\"/>\n",
              "    <path d=\"M18.56 5.44l.94 2.06.94-2.06 2.06-.94-2.06-.94-.94-2.06-.94 2.06-2.06.94zm-11 1L8.5 8.5l.94-2.06 2.06-.94-2.06-.94L8.5 2.5l-.94 2.06-2.06.94zm10 10l.94 2.06.94-2.06 2.06-.94-2.06-.94-.94-2.06-.94 2.06-2.06.94z\"/><path d=\"M17.41 7.96l-1.37-1.37c-.4-.4-.92-.59-1.43-.59-.52 0-1.04.2-1.43.59L10.3 9.45l-7.72 7.72c-.78.78-.78 2.05 0 2.83L4 21.41c.39.39.9.59 1.41.59.51 0 1.02-.2 1.41-.59l7.78-7.78 2.81-2.81c.8-.78.8-2.07 0-2.86zM5.41 20L4 18.59l7.72-7.72 1.47 1.35L5.41 20z\"/>\n",
              "  </svg>\n",
              "      </button>\n",
              "      \n",
              "  <style>\n",
              "    .colab-df-container {\n",
              "      display:flex;\n",
              "      flex-wrap:wrap;\n",
              "      gap: 12px;\n",
              "    }\n",
              "\n",
              "    .colab-df-convert {\n",
              "      background-color: #E8F0FE;\n",
              "      border: none;\n",
              "      border-radius: 50%;\n",
              "      cursor: pointer;\n",
              "      display: none;\n",
              "      fill: #1967D2;\n",
              "      height: 32px;\n",
              "      padding: 0 0 0 0;\n",
              "      width: 32px;\n",
              "    }\n",
              "\n",
              "    .colab-df-convert:hover {\n",
              "      background-color: #E2EBFA;\n",
              "      box-shadow: 0px 1px 2px rgba(60, 64, 67, 0.3), 0px 1px 3px 1px rgba(60, 64, 67, 0.15);\n",
              "      fill: #174EA6;\n",
              "    }\n",
              "\n",
              "    [theme=dark] .colab-df-convert {\n",
              "      background-color: #3B4455;\n",
              "      fill: #D2E3FC;\n",
              "    }\n",
              "\n",
              "    [theme=dark] .colab-df-convert:hover {\n",
              "      background-color: #434B5C;\n",
              "      box-shadow: 0px 1px 3px 1px rgba(0, 0, 0, 0.15);\n",
              "      filter: drop-shadow(0px 1px 2px rgba(0, 0, 0, 0.3));\n",
              "      fill: #FFFFFF;\n",
              "    }\n",
              "  </style>\n",
              "\n",
              "      <script>\n",
              "        const buttonEl =\n",
              "          document.querySelector('#df-933f7d04-6129-4910-8590-446e33dbc2d8 button.colab-df-convert');\n",
              "        buttonEl.style.display =\n",
              "          google.colab.kernel.accessAllowed ? 'block' : 'none';\n",
              "\n",
              "        async function convertToInteractive(key) {\n",
              "          const element = document.querySelector('#df-933f7d04-6129-4910-8590-446e33dbc2d8');\n",
              "          const dataTable =\n",
              "            await google.colab.kernel.invokeFunction('convertToInteractive',\n",
              "                                                     [key], {});\n",
              "          if (!dataTable) return;\n",
              "\n",
              "          const docLinkHtml = 'Like what you see? Visit the ' +\n",
              "            '<a target=\"_blank\" href=https://colab.research.google.com/notebooks/data_table.ipynb>data table notebook</a>'\n",
              "            + ' to learn more about interactive tables.';\n",
              "          element.innerHTML = '';\n",
              "          dataTable['output_type'] = 'display_data';\n",
              "          await google.colab.output.renderOutput(dataTable, element);\n",
              "          const docLink = document.createElement('div');\n",
              "          docLink.innerHTML = docLinkHtml;\n",
              "          element.appendChild(docLink);\n",
              "        }\n",
              "      </script>\n",
              "    </div>\n",
              "  </div>\n",
              "  "
            ]
          },
          "metadata": {},
          "execution_count": 4
        }
      ]
    },
    {
      "cell_type": "markdown",
      "source": [
        "## EDA"
      ],
      "metadata": {
        "id": "qynzn9N355a9"
      }
    },
    {
      "cell_type": "code",
      "source": [
        "df.info()"
      ],
      "metadata": {
        "colab": {
          "base_uri": "https://localhost:8080/"
        },
        "id": "9RWHnlLHvS9Q",
        "outputId": "fec6e9be-0879-4474-d690-db65a5ff1009"
      },
      "execution_count": null,
      "outputs": [
        {
          "output_type": "stream",
          "name": "stdout",
          "text": [
            "<class 'pandas.core.frame.DataFrame'>\n",
            "RangeIndex: 200853 entries, 0 to 200852\n",
            "Data columns (total 6 columns):\n",
            " #   Column             Non-Null Count   Dtype         \n",
            "---  ------             --------------   -----         \n",
            " 0   category           200853 non-null  object        \n",
            " 1   headline           200853 non-null  object        \n",
            " 2   authors            200853 non-null  object        \n",
            " 3   link               200853 non-null  object        \n",
            " 4   short_description  200853 non-null  object        \n",
            " 5   date               200853 non-null  datetime64[ns]\n",
            "dtypes: datetime64[ns](1), object(5)\n",
            "memory usage: 9.2+ MB\n"
          ]
        }
      ]
    },
    {
      "cell_type": "code",
      "source": [
        "df.shape"
      ],
      "metadata": {
        "colab": {
          "base_uri": "https://localhost:8080/"
        },
        "id": "GANGxotgvVsM",
        "outputId": "ecdfe7e0-7789-4b9a-c418-9db273371568"
      },
      "execution_count": null,
      "outputs": [
        {
          "output_type": "execute_result",
          "data": {
            "text/plain": [
              "(200853, 6)"
            ]
          },
          "metadata": {},
          "execution_count": 6
        }
      ]
    },
    {
      "cell_type": "code",
      "source": [
        "df[\"category\"].unique()"
      ],
      "metadata": {
        "colab": {
          "base_uri": "https://localhost:8080/"
        },
        "id": "x1xmCHjZtQOT",
        "outputId": "59233deb-9584-44d8-bf35-75dd9c282198"
      },
      "execution_count": null,
      "outputs": [
        {
          "output_type": "execute_result",
          "data": {
            "text/plain": [
              "array(['CRIME', 'ENTERTAINMENT', 'WORLD NEWS', 'IMPACT', 'POLITICS',\n",
              "       'WEIRD NEWS', 'BLACK VOICES', 'WOMEN', 'COMEDY', 'QUEER VOICES',\n",
              "       'SPORTS', 'BUSINESS', 'TRAVEL', 'MEDIA', 'TECH', 'RELIGION',\n",
              "       'SCIENCE', 'LATINO VOICES', 'EDUCATION', 'COLLEGE', 'PARENTS',\n",
              "       'ARTS & CULTURE', 'STYLE', 'GREEN', 'TASTE', 'HEALTHY LIVING',\n",
              "       'THE WORLDPOST', 'GOOD NEWS', 'WORLDPOST', 'FIFTY', 'ARTS',\n",
              "       'WELLNESS', 'PARENTING', 'HOME & LIVING', 'STYLE & BEAUTY',\n",
              "       'DIVORCE', 'WEDDINGS', 'FOOD & DRINK', 'MONEY', 'ENVIRONMENT',\n",
              "       'CULTURE & ARTS'], dtype=object)"
            ]
          },
          "metadata": {},
          "execution_count": 7
        }
      ]
    },
    {
      "cell_type": "code",
      "source": [
        "len(df[\"category\"].unique())"
      ],
      "metadata": {
        "colab": {
          "base_uri": "https://localhost:8080/"
        },
        "id": "4PLgOUJrtWfP",
        "outputId": "3c2beba2-80dc-41f6-d62a-fd6c9fb9e440"
      },
      "execution_count": null,
      "outputs": [
        {
          "output_type": "execute_result",
          "data": {
            "text/plain": [
              "41"
            ]
          },
          "metadata": {},
          "execution_count": 8
        }
      ]
    },
    {
      "cell_type": "code",
      "source": [
        "df[\"category\"].value_counts()"
      ],
      "metadata": {
        "id": "Qvw_IKKK56YX",
        "colab": {
          "base_uri": "https://localhost:8080/"
        },
        "outputId": "f9dd9d0b-36ed-41fd-a364-46fc1ad75f42"
      },
      "execution_count": null,
      "outputs": [
        {
          "output_type": "execute_result",
          "data": {
            "text/plain": [
              "POLITICS          32739\n",
              "WELLNESS          17827\n",
              "ENTERTAINMENT     16058\n",
              "TRAVEL             9887\n",
              "STYLE & BEAUTY     9649\n",
              "PARENTING          8677\n",
              "HEALTHY LIVING     6694\n",
              "QUEER VOICES       6314\n",
              "FOOD & DRINK       6226\n",
              "BUSINESS           5937\n",
              "COMEDY             5175\n",
              "SPORTS             4884\n",
              "BLACK VOICES       4528\n",
              "HOME & LIVING      4195\n",
              "PARENTS            3955\n",
              "THE WORLDPOST      3664\n",
              "WEDDINGS           3651\n",
              "WOMEN              3490\n",
              "IMPACT             3459\n",
              "DIVORCE            3426\n",
              "CRIME              3405\n",
              "MEDIA              2815\n",
              "WEIRD NEWS         2670\n",
              "GREEN              2622\n",
              "WORLDPOST          2579\n",
              "RELIGION           2556\n",
              "STYLE              2254\n",
              "SCIENCE            2178\n",
              "WORLD NEWS         2177\n",
              "TASTE              2096\n",
              "TECH               2082\n",
              "MONEY              1707\n",
              "ARTS               1509\n",
              "FIFTY              1401\n",
              "GOOD NEWS          1398\n",
              "ARTS & CULTURE     1339\n",
              "ENVIRONMENT        1323\n",
              "COLLEGE            1144\n",
              "LATINO VOICES      1129\n",
              "CULTURE & ARTS     1030\n",
              "EDUCATION          1004\n",
              "Name: category, dtype: int64"
            ]
          },
          "metadata": {},
          "execution_count": 9
        }
      ]
    },
    {
      "cell_type": "code",
      "source": [
        "df[\"category\"].value_counts().plot(kind='bar', figsize=(20, 5))"
      ],
      "metadata": {
        "id": "jy-vSQvl57Sd",
        "colab": {
          "base_uri": "https://localhost:8080/",
          "height": 391
        },
        "outputId": "342249b8-91e2-4e5e-9151-f77d27066b6a"
      },
      "execution_count": null,
      "outputs": [
        {
          "output_type": "execute_result",
          "data": {
            "text/plain": [
              "<matplotlib.axes._subplots.AxesSubplot at 0x7f37d27b2bd0>"
            ]
          },
          "metadata": {},
          "execution_count": 10
        },
        {
          "output_type": "display_data",
          "data": {
            "text/plain": [
              "<Figure size 1440x360 with 1 Axes>"
            ],
            "image/png": "[encoded data removed]"
          },
          "metadata": {
            "needs_background": "light"
          }
        }
      ]
    },
    {
      "cell_type": "code",
      "source": [
        "df.isna().sum().sum()"
      ],
      "metadata": {
        "colab": {
          "base_uri": "https://localhost:8080/"
        },
        "id": "TauoWi8au9Tr",
        "outputId": "d19eac25-20cb-4ffb-a6f1-2ee5ee8faae3"
      },
      "execution_count": null,
      "outputs": [
        {
          "output_type": "execute_result",
          "data": {
            "text/plain": [
              "0"
            ]
          },
          "metadata": {},
          "execution_count": 11
        }
      ]
    },
    {
      "cell_type": "code",
      "source": [
        "df.duplicated().sum()"
      ],
      "metadata": {
        "colab": {
          "base_uri": "https://localhost:8080/"
        },
        "id": "WTHv6zC7vGM1",
        "outputId": "d4caaa99-c5fe-4b2c-f216-98a727e9bacd"
      },
      "execution_count": null,
      "outputs": [
        {
          "output_type": "execute_result",
          "data": {
            "text/plain": [
              "13"
            ]
          },
          "metadata": {},
          "execution_count": 12
        }
      ]
    },
    {
      "cell_type": "markdown",
      "source": [
        "## Cleaning & Preprocessing"
      ],
      "metadata": {
        "id": "PgIWPomC562t"
      }
    },
    {
      "cell_type": "code",
      "source": [
        "df[\"text\"] = df[\"headline\"] + \" \"+df[\"short_description\"]\n",
        "df.head(3)"
      ],
      "metadata": {
        "colab": {
          "base_uri": "https://localhost:8080/",
          "height": 292
        },
        "id": "dF53nXBUwe3C",
        "outputId": "2864d10d-5b0e-4961-e7f2-3f2c2bbcc491"
      },
      "execution_count": null,
      "outputs": [
        {
          "output_type": "execute_result",
          "data": {
            "text/plain": [
              "        category                                           headline  \\\n",
              "0          CRIME  There Were 2 Mass Shootings In Texas Last Week...   \n",
              "1  ENTERTAINMENT  Will Smith Joins Diplo And Nicky Jam For The 2...   \n",
              "2  ENTERTAINMENT    Hugh Grant Marries For The First Time At Age 57   \n",
              "\n",
              "           authors                                               link  \\\n",
              "0  Melissa Jeltsen  https://www.huffingtonpost.com/entry/texas-ama...   \n",
              "1    Andy McDonald  https://www.huffingtonpost.com/entry/will-smit...   \n",
              "2       Ron Dicker  https://www.huffingtonpost.com/entry/hugh-gran...   \n",
              "\n",
              "                                   short_description       date  \\\n",
              "0  She left her husband. He killed their children... 2018-05-26   \n",
              "1                           Of course it has a song. 2018-05-26   \n",
              "2  The actor and his longtime girlfriend Anna Ebe... 2018-05-26   \n",
              "\n",
              "                                                text  \n",
              "0  There Were 2 Mass Shootings In Texas Last Week...  \n",
              "1  Will Smith Joins Diplo And Nicky Jam For The 2...  \n",
              "2  Hugh Grant Marries For The First Time At Age 5...  "
            ],
            "text/html": [
              "\n",
              "  <div id=\"df-e74f87b2-0964-47f1-9c84-c31811dc59db\">\n",
              "    <div class=\"colab-df-container\">\n",
              "      <div>\n",
              "<style scoped>\n",
              "    .dataframe tbody tr th:only-of-type {\n",
              "        vertical-align: middle;\n",
              "    }\n",
              "\n",
              "    .dataframe tbody tr th {\n",
              "        vertical-align: top;\n",
              "    }\n",
              "\n",
              "    .dataframe thead th {\n",
              "        text-align: right;\n",
              "    }\n",
              "</style>\n",
              "<table border=\"1\" class=\"dataframe\">\n",
              "  <thead>\n",
              "    <tr style=\"text-align: right;\">\n",
              "      <th></th>\n",
              "      <th>category</th>\n",
              "      <th>headline</th>\n",
              "      <th>authors</th>\n",
              "      <th>link</th>\n",
              "      <th>short_description</th>\n",
              "      <th>date</th>\n",
              "      <th>text</th>\n",
              "    </tr>\n",
              "  </thead>\n",
              "  <tbody>\n",
              "    <tr>\n",
              "      <th>0</th>\n",
              "      <td>CRIME</td>\n",
              "      <td>There Were 2 Mass Shootings In Texas Last Week...</td>\n",
              "      <td>Melissa Jeltsen</td>\n",
              "      <td>https://www.huffingtonpost.com/entry/texas-ama...</td>\n",
              "      <td>She left her husband. He killed their children...</td>\n",
              "      <td>2018-05-26</td>\n",
              "      <td>There Were 2 Mass Shootings In Texas Last Week...</td>\n",
              "    </tr>\n",
              "    <tr>\n",
              "      <th>1</th>\n",
              "      <td>ENTERTAINMENT</td>\n",
              "      <td>Will Smith Joins Diplo And Nicky Jam For The 2...</td>\n",
              "      <td>Andy McDonald</td>\n",
              "      <td>https://www.huffingtonpost.com/entry/will-smit...</td>\n",
              "      <td>Of course it has a song.</td>\n",
              "      <td>2018-05-26</td>\n",
              "      <td>Will Smith Joins Diplo And Nicky Jam For The 2...</td>\n",
              "    </tr>\n",
              "    <tr>\n",
              "      <th>2</th>\n",
              "      <td>ENTERTAINMENT</td>\n",
              "      <td>Hugh Grant Marries For The First Time At Age 57</td>\n",
              "      <td>Ron Dicker</td>\n",
              "      <td>https://www.huffingtonpost.com/entry/hugh-gran...</td>\n",
              "      <td>The actor and his longtime girlfriend Anna Ebe...</td>\n",
              "      <td>2018-05-26</td>\n",
              "      <td>Hugh Grant Marries For The First Time At Age 5...</td>\n",
              "    </tr>\n",
              "  </tbody>\n",
              "</table>\n",
              "</div>\n",
              "      <button class=\"colab-df-convert\" onclick=\"convertToInteractive('df-e74f87b2-0964-47f1-9c84-c31811dc59db')\"\n",
              "              title=\"Convert this dataframe to an interactive table.\"\n",
              "              style=\"display:none;\">\n",
              "        \n",
              "  <svg xmlns=\"http://www.w3.org/2000/svg\" height=\"24px\"viewBox=\"0 0 24 24\"\n",
              "       width=\"24px\">\n",
              "    <path d=\"M0 0h24v24H0V0z\" fill=\"none\"/>\n",
              "    <path d=\"M18.56 5.44l.94 2.06.94-2.06 2.06-.94-2.06-.94-.94-2.06-.94 2.06-2.06.94zm-11 1L8.5 8.5l.94-2.06 2.06-.94-2.06-.94L8.5 2.5l-.94 2.06-2.06.94zm10 10l.94 2.06.94-2.06 2.06-.94-2.06-.94-.94-2.06-.94 2.06-2.06.94z\"/><path d=\"M17.41 7.96l-1.37-1.37c-.4-.4-.92-.59-1.43-.59-.52 0-1.04.2-1.43.59L10.3 9.45l-7.72 7.72c-.78.78-.78 2.05 0 2.83L4 21.41c.39.39.9.59 1.41.59.51 0 1.02-.2 1.41-.59l7.78-7.78 2.81-2.81c.8-.78.8-2.07 0-2.86zM5.41 20L4 18.59l7.72-7.72 1.47 1.35L5.41 20z\"/>\n",
              "  </svg>\n",
              "      </button>\n",
              "      \n",
              "  <style>\n",
              "    .colab-df-container {\n",
              "      display:flex;\n",
              "      flex-wrap:wrap;\n",
              "      gap: 12px;\n",
              "    }\n",
              "\n",
              "    .colab-df-convert {\n",
              "      background-color: #E8F0FE;\n",
              "      border: none;\n",
              "      border-radius: 50%;\n",
              "      cursor: pointer;\n",
              "      display: none;\n",
              "      fill: #1967D2;\n",
              "      height: 32px;\n",
              "      padding: 0 0 0 0;\n",
              "      width: 32px;\n",
              "    }\n",
              "\n",
              "    .colab-df-convert:hover {\n",
              "      background-color: #E2EBFA;\n",
              "      box-shadow: 0px 1px 2px rgba(60, 64, 67, 0.3), 0px 1px 3px 1px rgba(60, 64, 67, 0.15);\n",
              "      fill: #174EA6;\n",
              "    }\n",
              "\n",
              "    [theme=dark] .colab-df-convert {\n",
              "      background-color: #3B4455;\n",
              "      fill: #D2E3FC;\n",
              "    }\n",
              "\n",
              "    [theme=dark] .colab-df-convert:hover {\n",
              "      background-color: #434B5C;\n",
              "      box-shadow: 0px 1px 3px 1px rgba(0, 0, 0, 0.15);\n",
              "      filter: drop-shadow(0px 1px 2px rgba(0, 0, 0, 0.3));\n",
              "      fill: #FFFFFF;\n",
              "    }\n",
              "  </style>\n",
              "\n",
              "      <script>\n",
              "        const buttonEl =\n",
              "          document.querySelector('#df-e74f87b2-0964-47f1-9c84-c31811dc59db button.colab-df-convert');\n",
              "        buttonEl.style.display =\n",
              "          google.colab.kernel.accessAllowed ? 'block' : 'none';\n",
              "\n",
              "        async function convertToInteractive(key) {\n",
              "          const element = document.querySelector('#df-e74f87b2-0964-47f1-9c84-c31811dc59db');\n",
              "          const dataTable =\n",
              "            await google.colab.kernel.invokeFunction('convertToInteractive',\n",
              "                                                     [key], {});\n",
              "          if (!dataTable) return;\n",
              "\n",
              "          const docLinkHtml = 'Like what you see? Visit the ' +\n",
              "            '<a target=\"_blank\" href=https://colab.research.google.com/notebooks/data_table.ipynb>data table notebook</a>'\n",
              "            + ' to learn more about interactive tables.';\n",
              "          element.innerHTML = '';\n",
              "          dataTable['output_type'] = 'display_data';\n",
              "          await google.colab.output.renderOutput(dataTable, element);\n",
              "          const docLink = document.createElement('div');\n",
              "          docLink.innerHTML = docLinkHtml;\n",
              "          element.appendChild(docLink);\n",
              "        }\n",
              "      </script>\n",
              "    </div>\n",
              "  </div>\n",
              "  "
            ]
          },
          "metadata": {},
          "execution_count": 13
        }
      ]
    },
    {
      "cell_type": "code",
      "source": [
        "df.loc[1,\"short_description\"]"
      ],
      "metadata": {
        "colab": {
          "base_uri": "https://localhost:8080/",
          "height": 36
        },
        "id": "aYoIWX55xB3M",
        "outputId": "fd3f1711-0c11-4579-91e4-bed0a9556f80"
      },
      "execution_count": null,
      "outputs": [
        {
          "output_type": "execute_result",
          "data": {
            "text/plain": [
              "'Of course it has a song.'"
            ],
            "application/vnd.google.colaboratory.intrinsic+json": {
              "type": "string"
            }
          },
          "metadata": {},
          "execution_count": 14
        }
      ]
    },
    {
      "cell_type": "code",
      "source": [
        "df.loc[1,\"headline\"]"
      ],
      "metadata": {
        "colab": {
          "base_uri": "https://localhost:8080/",
          "height": 36
        },
        "id": "1KNXJK97xJHR",
        "outputId": "b13297db-0ba4-4fc3-b1e2-4d13f60efb06"
      },
      "execution_count": null,
      "outputs": [
        {
          "output_type": "execute_result",
          "data": {
            "text/plain": [
              "\"Will Smith Joins Diplo And Nicky Jam For The 2018 World Cup's Official Song\""
            ],
            "application/vnd.google.colaboratory.intrinsic+json": {
              "type": "string"
            }
          },
          "metadata": {},
          "execution_count": 15
        }
      ]
    },
    {
      "cell_type": "code",
      "source": [
        "df.loc[1,\"text\"]"
      ],
      "metadata": {
        "colab": {
          "base_uri": "https://localhost:8080/",
          "height": 36
        },
        "id": "HLHLHsRYw2my",
        "outputId": "78cd7431-d700-4c7f-f4dc-530eaf8acfb4"
      },
      "execution_count": null,
      "outputs": [
        {
          "output_type": "execute_result",
          "data": {
            "text/plain": [
              "\"Will Smith Joins Diplo And Nicky Jam For The 2018 World Cup's Official Song Of course it has a song.\""
            ],
            "application/vnd.google.colaboratory.intrinsic+json": {
              "type": "string"
            }
          },
          "metadata": {},
          "execution_count": 16
        }
      ]
    },
    {
      "cell_type": "code",
      "source": [
        "df=df.drop_duplicates()"
      ],
      "metadata": {
        "id": "cJRjq_tq5-fT"
      },
      "execution_count": null,
      "outputs": []
    },
    {
      "cell_type": "code",
      "source": [
        "new_df=df[[\"category\",\"text\"]]"
      ],
      "metadata": {
        "id": "MLgiJR9n5_H-"
      },
      "execution_count": null,
      "outputs": []
    },
    {
      "cell_type": "code",
      "source": [
        "new_df.head(3)"
      ],
      "metadata": {
        "colab": {
          "base_uri": "https://localhost:8080/",
          "height": 143
        },
        "id": "umBDCDyYxbrL",
        "outputId": "9e81b8ad-1ee7-4b47-b7a4-a229428b4a3a"
      },
      "execution_count": null,
      "outputs": [
        {
          "output_type": "execute_result",
          "data": {
            "text/plain": [
              "        category                                               text\n",
              "0          CRIME  There Were 2 Mass Shootings In Texas Last Week...\n",
              "1  ENTERTAINMENT  Will Smith Joins Diplo And Nicky Jam For The 2...\n",
              "2  ENTERTAINMENT  Hugh Grant Marries For The First Time At Age 5..."
            ],
            "text/html": [
              "\n",
              "  <div id=\"df-6d545198-1a2f-4e43-9069-5d45051bfb61\">\n",
              "    <div class=\"colab-df-container\">\n",
              "      <div>\n",
              "<style scoped>\n",
              "    .dataframe tbody tr th:only-of-type {\n",
              "        vertical-align: middle;\n",
              "    }\n",
              "\n",
              "    .dataframe tbody tr th {\n",
              "        vertical-align: top;\n",
              "    }\n",
              "\n",
              "    .dataframe thead th {\n",
              "        text-align: right;\n",
              "    }\n",
              "</style>\n",
              "<table border=\"1\" class=\"dataframe\">\n",
              "  <thead>\n",
              "    <tr style=\"text-align: right;\">\n",
              "      <th></th>\n",
              "      <th>category</th>\n",
              "      <th>text</th>\n",
              "    </tr>\n",
              "  </thead>\n",
              "  <tbody>\n",
              "    <tr>\n",
              "      <th>0</th>\n",
              "      <td>CRIME</td>\n",
              "      <td>There Were 2 Mass Shootings In Texas Last Week...</td>\n",
              "    </tr>\n",
              "    <tr>\n",
              "      <th>1</th>\n",
              "      <td>ENTERTAINMENT</td>\n",
              "      <td>Will Smith Joins Diplo And Nicky Jam For The 2...</td>\n",
              "    </tr>\n",
              "    <tr>\n",
              "      <th>2</th>\n",
              "      <td>ENTERTAINMENT</td>\n",
              "      <td>Hugh Grant Marries For The First Time At Age 5...</td>\n",
              "    </tr>\n",
              "  </tbody>\n",
              "</table>\n",
              "</div>\n",
              "      <button class=\"colab-df-convert\" onclick=\"convertToInteractive('df-6d545198-1a2f-4e43-9069-5d45051bfb61')\"\n",
              "              title=\"Convert this dataframe to an interactive table.\"\n",
              "              style=\"display:none;\">\n",
              "        \n",
              "  <svg xmlns=\"http://www.w3.org/2000/svg\" height=\"24px\"viewBox=\"0 0 24 24\"\n",
              "       width=\"24px\">\n",
              "    <path d=\"M0 0h24v24H0V0z\" fill=\"none\"/>\n",
              "    <path d=\"M18.56 5.44l.94 2.06.94-2.06 2.06-.94-2.06-.94-.94-2.06-.94 2.06-2.06.94zm-11 1L8.5 8.5l.94-2.06 2.06-.94-2.06-.94L8.5 2.5l-.94 2.06-2.06.94zm10 10l.94 2.06.94-2.06 2.06-.94-2.06-.94-.94-2.06-.94 2.06-2.06.94z\"/><path d=\"M17.41 7.96l-1.37-1.37c-.4-.4-.92-.59-1.43-.59-.52 0-1.04.2-1.43.59L10.3 9.45l-7.72 7.72c-.78.78-.78 2.05 0 2.83L4 21.41c.39.39.9.59 1.41.59.51 0 1.02-.2 1.41-.59l7.78-7.78 2.81-2.81c.8-.78.8-2.07 0-2.86zM5.41 20L4 18.59l7.72-7.72 1.47 1.35L5.41 20z\"/>\n",
              "  </svg>\n",
              "      </button>\n",
              "      \n",
              "  <style>\n",
              "    .colab-df-container {\n",
              "      display:flex;\n",
              "      flex-wrap:wrap;\n",
              "      gap: 12px;\n",
              "    }\n",
              "\n",
              "    .colab-df-convert {\n",
              "      background-color: #E8F0FE;\n",
              "      border: none;\n",
              "      border-radius: 50%;\n",
              "      cursor: pointer;\n",
              "      display: none;\n",
              "      fill: #1967D2;\n",
              "      height: 32px;\n",
              "      padding: 0 0 0 0;\n",
              "      width: 32px;\n",
              "    }\n",
              "\n",
              "    .colab-df-convert:hover {\n",
              "      background-color: #E2EBFA;\n",
              "      box-shadow: 0px 1px 2px rgba(60, 64, 67, 0.3), 0px 1px 3px 1px rgba(60, 64, 67, 0.15);\n",
              "      fill: #174EA6;\n",
              "    }\n",
              "\n",
              "    [theme=dark] .colab-df-convert {\n",
              "      background-color: #3B4455;\n",
              "      fill: #D2E3FC;\n",
              "    }\n",
              "\n",
              "    [theme=dark] .colab-df-convert:hover {\n",
              "      background-color: #434B5C;\n",
              "      box-shadow: 0px 1px 3px 1px rgba(0, 0, 0, 0.15);\n",
              "      filter: drop-shadow(0px 1px 2px rgba(0, 0, 0, 0.3));\n",
              "      fill: #FFFFFF;\n",
              "    }\n",
              "  </style>\n",
              "\n",
              "      <script>\n",
              "        const buttonEl =\n",
              "          document.querySelector('#df-6d545198-1a2f-4e43-9069-5d45051bfb61 button.colab-df-convert');\n",
              "        buttonEl.style.display =\n",
              "          google.colab.kernel.accessAllowed ? 'block' : 'none';\n",
              "\n",
              "        async function convertToInteractive(key) {\n",
              "          const element = document.querySelector('#df-6d545198-1a2f-4e43-9069-5d45051bfb61');\n",
              "          const dataTable =\n",
              "            await google.colab.kernel.invokeFunction('convertToInteractive',\n",
              "                                                     [key], {});\n",
              "          if (!dataTable) return;\n",
              "\n",
              "          const docLinkHtml = 'Like what you see? Visit the ' +\n",
              "            '<a target=\"_blank\" href=https://colab.research.google.com/notebooks/data_table.ipynb>data table notebook</a>'\n",
              "            + ' to learn more about interactive tables.';\n",
              "          element.innerHTML = '';\n",
              "          dataTable['output_type'] = 'display_data';\n",
              "          await google.colab.output.renderOutput(dataTable, element);\n",
              "          const docLink = document.createElement('div');\n",
              "          docLink.innerHTML = docLinkHtml;\n",
              "          element.appendChild(docLink);\n",
              "        }\n",
              "      </script>\n",
              "    </div>\n",
              "  </div>\n",
              "  "
            ]
          },
          "metadata": {},
          "execution_count": 19
        }
      ]
    },
    {
      "cell_type": "code",
      "source": [
        "new_df.loc[10,\"text\"]"
      ],
      "metadata": {
        "colab": {
          "base_uri": "https://localhost:8080/",
          "height": 36
        },
        "id": "gyohUWWIyWjQ",
        "outputId": "e7bfb8ee-f60e-4656-e066-fcf40dcdca1b"
      },
      "execution_count": null,
      "outputs": [
        {
          "output_type": "execute_result",
          "data": {
            "text/plain": [
              "'Justin Timberlake Visits Texas School Shooting Victims The pop star also wore a \"Santa Fe Strong\" shirt at his show in Houston.'"
            ],
            "application/vnd.google.colaboratory.intrinsic+json": {
              "type": "string"
            }
          },
          "metadata": {},
          "execution_count": 20
        }
      ]
    },
    {
      "cell_type": "code",
      "source": [
        "new_df.loc[1000,\"text\"]"
      ],
      "metadata": {
        "colab": {
          "base_uri": "https://localhost:8080/",
          "height": 36
        },
        "id": "X7MqmPAVyfaB",
        "outputId": "254a1d08-22c9-4dd7-9556-984495b53a2a"
      },
      "execution_count": null,
      "outputs": [
        {
          "output_type": "execute_result",
          "data": {
            "text/plain": [
              "'Pakistani Interior Minister Ahsan Iqbal Shot By Gunman Linked To New Religious Party A motive for the attack has not been released.'"
            ],
            "application/vnd.google.colaboratory.intrinsic+json": {
              "type": "string"
            }
          },
          "metadata": {},
          "execution_count": 21
        }
      ]
    },
    {
      "cell_type": "code",
      "source": [
        "new_df.loc[5000,\"text\"]"
      ],
      "metadata": {
        "colab": {
          "base_uri": "https://localhost:8080/",
          "height": 55
        },
        "id": "AKEcffGCylrb",
        "outputId": "f7f5dd5e-01cb-43ba-9a43-c9723787e6d6"
      },
      "execution_count": null,
      "outputs": [
        {
          "output_type": "execute_result",
          "data": {
            "text/plain": [
              "'Trump On Fox Savages \\'Leaker\\' Schiff Who Has \\'Probably\\' Done Something \\'Illegal\\'\\' Then president pleads that \"we have to come together as a nation.\"'"
            ],
            "application/vnd.google.colaboratory.intrinsic+json": {
              "type": "string"
            }
          },
          "metadata": {},
          "execution_count": 22
        }
      ]
    },
    {
      "cell_type": "code",
      "source": [
        "new_df.loc[10000,\"text\"]"
      ],
      "metadata": {
        "colab": {
          "base_uri": "https://localhost:8080/",
          "height": 55
        },
        "id": "pu3aMxl1ys2z",
        "outputId": "7e0defda-1108-4813-fad7-8283a1f3e4f9"
      },
      "execution_count": null,
      "outputs": [
        {
          "output_type": "execute_result",
          "data": {
            "text/plain": [
              "'Another Trumpism For The History Books: Pearl Harbor Was \\'A Pretty Wild Scene\\' But the veterans \"gave it to \\'em pretty good,\" the president says on anniversary of the 1941 attack.'"
            ],
            "application/vnd.google.colaboratory.intrinsic+json": {
              "type": "string"
            }
          },
          "metadata": {},
          "execution_count": 23
        }
      ]
    },
    {
      "cell_type": "code",
      "source": [
        "def remove_special_chars(text):\n",
        "    re1 = re.compile(r'  +')\n",
        "    x1 = text.lower().replace('#39;', \"'\").replace('amp;', '&').replace('#146;', \"'\").replace(\n",
        "        'nbsp;', ' ').replace('#36;', '$').replace('\\\\n', \"\\n\").replace('quot;', \"'\").replace(\n",
        "        '<br />', \"\\n\").replace('\\\\\"', '\"').replace('<unk>', 'u_n').replace(' @.@ ', '.').replace(\n",
        "        ' @-@ ', '-').replace('\\\\', ' \\\\ ')\n",
        "    return re1.sub(' ', html.unescape(x1))\n",
        "\n",
        "def remove_non_ascii(text):\n",
        "    \"\"\"Remove non-ASCII characters from list of tokenized words\"\"\"\n",
        "    return unicodedata.normalize('NFKD', text).encode('ascii', 'ignore').decode('utf-8', 'ignore')\n",
        "\n",
        "def to_lowercase(text):\n",
        "    return text.lower()\n",
        "\n",
        "def remove_punctuation(text):\n",
        "    \"\"\"Remove punctuation from list of tokenized words\"\"\"\n",
        "    translator = str.maketrans('', '', string.punctuation)\n",
        "    return text.translate(translator)\n",
        "\n",
        "def replace_numbers(text):\n",
        "    \"\"\"Replace all interger occurrences in list of tokenized words with textual representation\"\"\"\n",
        "    return re.sub(r'\\d+', '', text)\n",
        "\n",
        "def remove_whitespaces(text):\n",
        "    return text.strip()\n",
        "\n",
        "def remove_stopwords(words, stop_words):\n",
        "    \"\"\"\n",
        "    :param words:\n",
        "    :type words:\n",
        "    :param stop_words: from sklearn.feature_extraction.stop_words import ENGLISH_STOP_WORDS\n",
        "    or\n",
        "    from spacy.lang.en.stop_words import STOP_WORDS\n",
        "    :type stop_words:\n",
        "    :return:\n",
        "    :rtype:\n",
        "    \"\"\"\n",
        "    return [word for word in words if word not in stop_words]\n",
        "\n",
        "def stem_words(words):\n",
        "    \"\"\"Stem words in text\"\"\"\n",
        "    stemmer = PorterStemmer()\n",
        "    return [stemmer.stem(word) for word in words]\n",
        "\n",
        "def lemmatize_words(words):\n",
        "    \"\"\"Lemmatize words in text\"\"\"\n",
        "\n",
        "    lemmatizer = WordNetLemmatizer()\n",
        "    return [lemmatizer.lemmatize(word) for word in words]\n",
        "\n",
        "def lemmatize_verbs(words):\n",
        "    \"\"\"Lemmatize verbs in text\"\"\"\n",
        "\n",
        "    lemmatizer = WordNetLemmatizer()\n",
        "    return ' '.join([lemmatizer.lemmatize(word, pos='v') for word in words])\n",
        "\n",
        "def text2words(text):\n",
        "  return word_tokenize(text)\n",
        "\n",
        "def normalize_text( text):\n",
        "    text = remove_special_chars(text)\n",
        "    text = remove_non_ascii(text)\n",
        "    text = remove_punctuation(text)\n",
        "    text = to_lowercase(text)\n",
        "    text = replace_numbers(text)\n",
        "    words = text2words(text)\n",
        "    stop_words = stopwords.words('english')\n",
        "    words = remove_stopwords(words, stop_words)\n",
        "    #words = stem_words(words)# Either stem or lemmatize\n",
        "    words = lemmatize_words(words)\n",
        "    words = lemmatize_verbs(words)\n",
        "\n",
        "    return ''.join(words)\n",
        "def normalize_corpus(corpus):\n",
        "  return [normalize_text(t) for t in corpus]"
      ],
      "metadata": {
        "id": "NRInBhFbxg5S"
      },
      "execution_count": null,
      "outputs": []
    },
    {
      "cell_type": "code",
      "source": [
        "c=[]\n",
        "df1 = normalize_corpus(df[\"text\"])\n",
        "for t in df1:\n",
        "  words=text_to_word_sequence(t)\n",
        "  for w in words:\n",
        "    c.append(w)\n",
        "v = sorted(list(set(c)))\n",
        "print(len(c))\n",
        "print(len(v))"
      ],
      "metadata": {
        "colab": {
          "base_uri": "https://localhost:8080/"
        },
        "id": "5yk676xN8GlP",
        "outputId": "fb8b4237-0a73-446d-c964-7ab9173ef44d"
      },
      "execution_count": null,
      "outputs": [
        {
          "output_type": "stream",
          "name": "stdout",
          "text": [
            "3484612\n",
            "88567\n"
          ]
        }
      ]
    },
    {
      "cell_type": "markdown",
      "source": [
        "len of unique words ia 88_567 i  will choose first 40_000 word"
      ],
      "metadata": {
        "id": "bxRwsbPwX1bE"
      }
    },
    {
      "cell_type": "code",
      "source": [
        "new_df[\"text\"]=new_df[\"text\"].apply(normalize_text)"
      ],
      "metadata": {
        "colab": {
          "base_uri": "https://localhost:8080/"
        },
        "id": "t4fODGIK0mQP",
        "outputId": "f90aab57-4982-41bf-e8ea-8fe4bf07f03a"
      },
      "execution_count": null,
      "outputs": [
        {
          "output_type": "stream",
          "name": "stderr",
          "text": [
            "/usr/local/lib/python3.7/dist-packages/ipykernel_launcher.py:1: SettingWithCopyWarning: \n",
            "A value is trying to be set on a copy of a slice from a DataFrame.\n",
            "Try using .loc[row_indexer,col_indexer] = value instead\n",
            "\n",
            "See the caveats in the documentation: https://pandas.pydata.org/pandas-docs/stable/user_guide/indexing.html#returning-a-view-versus-a-copy\n",
            "  \"\"\"Entry point for launching an IPython kernel.\n"
          ]
        }
      ]
    },
    {
      "cell_type": "code",
      "source": [
        "new_df[\"text\"].head(3)"
      ],
      "metadata": {
        "colab": {
          "base_uri": "https://localhost:8080/"
        },
        "id": "VubEYbcZyr0L",
        "outputId": "898f0380-0810-40ce-e412-b12082245838"
      },
      "execution_count": null,
      "outputs": [
        {
          "output_type": "execute_result",
          "data": {
            "text/plain": [
              "0    mass shoot texas last week tv leave husband ki...\n",
              "1    smith join diplo nicky jam world cup official ...\n",
              "2    hugh grant marry first time age actor longtime...\n",
              "Name: text, dtype: object"
            ]
          },
          "metadata": {},
          "execution_count": 27
        }
      ]
    },
    {
      "cell_type": "code",
      "source": [
        "new_df.loc[1,\"text\"]"
      ],
      "metadata": {
        "colab": {
          "base_uri": "https://localhost:8080/",
          "height": 36
        },
        "id": "pk7w2SvP4-tz",
        "outputId": "568fb826-a7f4-4d4e-85ab-86750fb0cadf"
      },
      "execution_count": null,
      "outputs": [
        {
          "output_type": "execute_result",
          "data": {
            "text/plain": [
              "'smith join diplo nicky jam world cup official song course song'"
            ],
            "application/vnd.google.colaboratory.intrinsic+json": {
              "type": "string"
            }
          },
          "metadata": {},
          "execution_count": 28
        }
      ]
    },
    {
      "cell_type": "code",
      "source": [
        "new_df.loc[5000,\"text\"]"
      ],
      "metadata": {
        "colab": {
          "base_uri": "https://localhost:8080/",
          "height": 36
        },
        "id": "X-jUV9No5ZV9",
        "outputId": "a5cc0df3-9145-4852-84ea-0285655e3dda"
      },
      "execution_count": null,
      "outputs": [
        {
          "output_type": "execute_result",
          "data": {
            "text/plain": [
              "'trump fox savage leaker schiff probably do something illegal president plead come together nation'"
            ],
            "application/vnd.google.colaboratory.intrinsic+json": {
              "type": "string"
            }
          },
          "metadata": {},
          "execution_count": 29
        }
      ]
    },
    {
      "cell_type": "code",
      "source": [
        "#longest text\n",
        "new_df[\"text\"].apply(lambda x: len(str(x).split(' '))).max()"
      ],
      "metadata": {
        "colab": {
          "base_uri": "https://localhost:8080/"
        },
        "id": "VRlDM60z57Qy",
        "outputId": "6e80f21d-1221-4080-d970-2e15bd15739b"
      },
      "execution_count": null,
      "outputs": [
        {
          "output_type": "execute_result",
          "data": {
            "text/plain": [
              "140"
            ]
          },
          "metadata": {},
          "execution_count": 30
        }
      ]
    },
    {
      "cell_type": "code",
      "source": [
        "new_df[\"text\"].apply(lambda x: len(str(x).split(' '))).mean()"
      ],
      "metadata": {
        "colab": {
          "base_uri": "https://localhost:8080/"
        },
        "id": "m9dvWunk9yxw",
        "outputId": "3f48d24c-4434-421d-f36d-6a7e459af230"
      },
      "execution_count": null,
      "outputs": [
        {
          "output_type": "execute_result",
          "data": {
            "text/plain": [
              "17.35026389165505"
            ]
          },
          "metadata": {},
          "execution_count": 31
        }
      ]
    },
    {
      "cell_type": "code",
      "source": [
        "new_df[\"text\"].apply(lambda x: len(str(x).split(' '))).median()"
      ],
      "metadata": {
        "colab": {
          "base_uri": "https://localhost:8080/"
        },
        "id": "mct_gshi98O_",
        "outputId": "067c2752-8a64-4a69-e2b9-8870cdb8efb0"
      },
      "execution_count": null,
      "outputs": [
        {
          "output_type": "execute_result",
          "data": {
            "text/plain": [
              "17.0"
            ]
          },
          "metadata": {},
          "execution_count": 32
        }
      ]
    },
    {
      "cell_type": "code",
      "source": [
        "new_df[\"text\"].apply(lambda x: len(str(x).split(' '))).min()"
      ],
      "metadata": {
        "colab": {
          "base_uri": "https://localhost:8080/"
        },
        "id": "N_8t40un94df",
        "outputId": "04aa36ab-43c8-4fa4-e39f-d804de9cd810"
      },
      "execution_count": null,
      "outputs": [
        {
          "output_type": "execute_result",
          "data": {
            "text/plain": [
              "1"
            ]
          },
          "metadata": {},
          "execution_count": 33
        }
      ]
    },
    {
      "cell_type": "code",
      "source": [
        "new_df[\"text\"].apply(lambda x: len(str(x).split(' '))).mode()"
      ],
      "metadata": {
        "colab": {
          "base_uri": "https://localhost:8080/"
        },
        "id": "Y43OPzWh9_wo",
        "outputId": "4e2296e0-da41-47c8-a2e1-eb3a3c37b131"
      },
      "execution_count": null,
      "outputs": [
        {
          "output_type": "execute_result",
          "data": {
            "text/plain": [
              "0    18\n",
              "dtype: int64"
            ]
          },
          "metadata": {},
          "execution_count": 34
        }
      ]
    },
    {
      "cell_type": "code",
      "source": [
        "new_df[\"text\"].apply(lambda x: len(str(x).split(' '))).hist()"
      ],
      "metadata": {
        "colab": {
          "base_uri": "https://localhost:8080/",
          "height": 283
        },
        "id": "dfAF2FFW-E73",
        "outputId": "cf658932-0dba-4808-af2d-d17e5d8ad470"
      },
      "execution_count": null,
      "outputs": [
        {
          "output_type": "execute_result",
          "data": {
            "text/plain": [
              "<matplotlib.axes._subplots.AxesSubplot at 0x7f37b427d6d0>"
            ]
          },
          "metadata": {},
          "execution_count": 35
        },
        {
          "output_type": "display_data",
          "data": {
            "text/plain": [
              "<Figure size 432x288 with 1 Axes>"
            ],
            "image/png": "[encoded data removed]"
          },
          "metadata": {
            "needs_background": "light"
          }
        }
      ]
    },
    {
      "cell_type": "code",
      "source": [
        "new_df[\"text\"].duplicated().sum()"
      ],
      "metadata": {
        "colab": {
          "base_uri": "https://localhost:8080/"
        },
        "id": "W4zJfsIYNpM5",
        "outputId": "80975e11-2590-4f1c-8b5e-0426342d6ee4"
      },
      "execution_count": null,
      "outputs": [
        {
          "output_type": "execute_result",
          "data": {
            "text/plain": [
              "767"
            ]
          },
          "metadata": {},
          "execution_count": 36
        }
      ]
    },
    {
      "cell_type": "code",
      "source": [
        "new_df.drop_duplicates([\"text\"],inplace=True)"
      ],
      "metadata": {
        "colab": {
          "base_uri": "https://localhost:8080/"
        },
        "id": "Cl0vR0DhN3x9",
        "outputId": "2eeff39b-a896-4aa7-d3ff-b1d4b157ee25"
      },
      "execution_count": null,
      "outputs": [
        {
          "output_type": "stream",
          "name": "stderr",
          "text": [
            "/usr/local/lib/python3.7/dist-packages/pandas/util/_decorators.py:311: SettingWithCopyWarning: \n",
            "A value is trying to be set on a copy of a slice from a DataFrame\n",
            "\n",
            "See the caveats in the documentation: https://pandas.pydata.org/pandas-docs/stable/user_guide/indexing.html#returning-a-view-versus-a-copy\n",
            "  return func(*args, **kwargs)\n"
          ]
        }
      ]
    },
    {
      "cell_type": "code",
      "source": [
        "new_df[\"text\"].duplicated().sum()"
      ],
      "metadata": {
        "colab": {
          "base_uri": "https://localhost:8080/"
        },
        "id": "MOUv0Ko-N_Xn",
        "outputId": "25ea86ee-057a-4ecd-9e32-b0e644c87c9a"
      },
      "execution_count": null,
      "outputs": [
        {
          "output_type": "execute_result",
          "data": {
            "text/plain": [
              "0"
            ]
          },
          "metadata": {},
          "execution_count": 38
        }
      ]
    },
    {
      "cell_type": "markdown",
      "source": [
        "## Modelling"
      ],
      "metadata": {
        "id": "f0IL7Mto5_V9"
      }
    },
    {
      "cell_type": "code",
      "source": [
        "from sklearn.model_selection import train_test_split\n",
        "train_txt, test_text, train_labels, test_labels = train_test_split(new_df[\"text\"], new_df[\"category\"],stratify=new_df[\"category\"], test_size=0.2, random_state=42)"
      ],
      "metadata": {
        "id": "pDJdWWeA5slU"
      },
      "execution_count": null,
      "outputs": []
    },
    {
      "cell_type": "code",
      "source": [
        "print(train_txt.shape)\n",
        "print(train_labels.shape)\n",
        "print(test_text.shape)\n",
        "print(test_labels.shape)"
      ],
      "metadata": {
        "colab": {
          "base_uri": "https://localhost:8080/"
        },
        "id": "rZM-eHrmFUOs",
        "outputId": "906966a1-aa19-41ef-83ce-6d1918b5be34"
      },
      "execution_count": null,
      "outputs": [
        {
          "output_type": "stream",
          "name": "stdout",
          "text": [
            "(160058,)\n",
            "(160058,)\n",
            "(40015,)\n",
            "(40015,)\n"
          ]
        }
      ]
    },
    {
      "cell_type": "code",
      "source": [
        "from tensorflow.keras.utils import to_categorical\n",
        "from sklearn.preprocessing import LabelEncoder\n",
        "label_encoder = LabelEncoder()\n",
        "vec = label_encoder.fit_transform(train_labels)\n",
        "train_labels = to_categorical(vec)\n",
        "vec = label_encoder.fit_transform(test_labels)\n",
        "test_labels = to_categorical(vec)"
      ],
      "metadata": {
        "id": "7Hp7e1qrDNp6"
      },
      "execution_count": null,
      "outputs": []
    },
    {
      "cell_type": "code",
      "source": [
        "print(train_labels.shape)\n",
        "print(test_labels.shape)"
      ],
      "metadata": {
        "colab": {
          "base_uri": "https://localhost:8080/"
        },
        "id": "CjDRSwuyFqmY",
        "outputId": "860e4223-c971-4fd3-b82f-1985dc5e2ac7"
      },
      "execution_count": null,
      "outputs": [
        {
          "output_type": "stream",
          "name": "stdout",
          "text": [
            "(160058, 41)\n",
            "(40015, 41)\n"
          ]
        }
      ]
    },
    {
      "cell_type": "code",
      "source": [
        "from tensorflow.keras.preprocessing.text import Tokenizer\n",
        "from tensorflow.keras.preprocessing.sequence import pad_sequences\n",
        "\n",
        "MAX_WORDS = 40_000\n",
        "tokenizer = Tokenizer(num_words=MAX_WORDS, oov_token='<OOV>')\n",
        "tokenizer.fit_on_texts(train_txt)\n",
        "train_sequences = tokenizer.texts_to_sequences(train_txt)\n",
        "print(len(train_sequences))\n",
        "print(train_sequences[:3])\n",
        "test_sequences = tokenizer.texts_to_sequences(test_text)\n",
        "print(len(test_sequences))\n",
        "print(test_sequences[:3])"
      ],
      "metadata": {
        "colab": {
          "base_uri": "https://localhost:8080/"
        },
        "id": "4MT8yR2t8-zw",
        "outputId": "ea6fd8dc-22ac-4544-eb06-32f062538c01"
      },
      "execution_count": null,
      "outputs": [
        {
          "output_type": "stream",
          "name": "stdout",
          "text": [
            "160058\n",
            "[[1816, 124, 7494, 127, 1357, 1244, 34, 10, 4979, 203, 64, 198, 6, 7494, 127, 3533, 30, 41, 77], [5, 328, 11649, 8358, 20654, 276, 1348, 328, 495, 5906, 436, 664, 460], [437, 33, 9363, 79, 34, 262, 317, 575, 722, 9589, 16601, 1537, 5354, 79, 485, 27, 1264]]\n",
            "40015\n",
            "[[153, 7071, 75, 283, 50, 3567, 911, 1685, 1074, 54, 16526, 34, 449, 7071, 188, 33522, 2, 15316, 433, 388, 431, 65, 313, 7071, 736, 1977], [43, 4, 11059, 790, 422, 4289, 4052, 2108, 3831, 1429, 1207, 933, 725, 77, 322, 211, 375, 298, 2606], [566, 1078, 1028, 2664, 85, 3109, 85, 3109, 1830]]\n"
          ]
        }
      ]
    },
    {
      "cell_type": "code",
      "source": [
        "MAX_LEN = 30\n",
        "train_padded = pad_sequences(train_sequences, padding='post', truncating='post', maxlen=MAX_LEN)\n",
        "print(train_padded.shape)\n",
        "test_padded = pad_sequences(test_sequences, padding='post', truncating='post', maxlen=MAX_LEN)\n",
        "print(test_padded.shape)"
      ],
      "metadata": {
        "colab": {
          "base_uri": "https://localhost:8080/"
        },
        "id": "YWimVw5g9jmG",
        "outputId": "640982de-d682-4bd8-ccf3-1ad8da427290"
      },
      "execution_count": null,
      "outputs": [
        {
          "output_type": "stream",
          "name": "stdout",
          "text": [
            "(160058, 30)\n",
            "(40015, 30)\n"
          ]
        }
      ]
    },
    {
      "cell_type": "code",
      "source": [
        "import numpy as np"
      ],
      "metadata": {
        "id": "RQzfzyz1LOBJ"
      },
      "execution_count": null,
      "outputs": []
    },
    {
      "cell_type": "code",
      "source": [
        " np.isnan(train_padded).sum()"
      ],
      "metadata": {
        "colab": {
          "base_uri": "https://localhost:8080/"
        },
        "id": "8mScxtWSKnqx",
        "outputId": "bb0f26e7-0c77-4d50-9d8d-b53c4d709111"
      },
      "execution_count": null,
      "outputs": [
        {
          "output_type": "execute_result",
          "data": {
            "text/plain": [
              "0"
            ]
          },
          "metadata": {},
          "execution_count": 46
        }
      ]
    },
    {
      "cell_type": "code",
      "source": [
        "from tensorflow.keras.models import Sequential\n",
        "from tensorflow.keras.layers import Embedding, LSTM, Dense\n",
        "from tensorflow.keras.metrics import  Precision, Recall\n",
        "\n",
        "EMB_SIZE = 128\n",
        "\n",
        "model = Sequential([\n",
        "           Embedding(MAX_WORDS, EMB_SIZE, mask_zero=True, input_length=MAX_LEN),\n",
        "           LSTM(128),\n",
        "           Dense(41, activation='softmax')\n",
        "])\n",
        "\n",
        "model.compile(\n",
        "    loss='categorical_crossentropy',\n",
        "    optimizer='adam',\n",
        "    metrics=[ Precision(), Recall()]\n",
        ")\n",
        "\n",
        "model.summary()"
      ],
      "metadata": {
        "id": "m9TaE8LJ6ArQ",
        "colab": {
          "base_uri": "https://localhost:8080/"
        },
        "outputId": "d6a2c720-fa0c-49d6-e040-7e5c94b45724"
      },
      "execution_count": null,
      "outputs": [
        {
          "output_type": "stream",
          "name": "stdout",
          "text": [
            "Model: \"sequential\"\n",
            "_________________________________________________________________\n",
            " Layer (type)                Output Shape              Param #   \n",
            "=================================================================\n",
            " embedding (Embedding)       (None, 30, 128)           5120000   \n",
            "                                                                 \n",
            " lstm (LSTM)                 (None, 128)               131584    \n",
            "                                                                 \n",
            " dense (Dense)               (None, 41)                5289      \n",
            "                                                                 \n",
            "=================================================================\n",
            "Total params: 5,256,873\n",
            "Trainable params: 5,256,873\n",
            "Non-trainable params: 0\n",
            "_________________________________________________________________\n"
          ]
        }
      ]
    },
    {
      "cell_type": "code",
      "source": [
        ""
      ],
      "metadata": {
        "id": "LnrC9Y8JLVab"
      },
      "execution_count": null,
      "outputs": []
    },
    {
      "cell_type": "code",
      "source": [
        "x_val = train_padded[5000:]\n",
        "partial_x_train = train_padded[:5000]\n",
        "\n",
        "y_val = train_labels[5000:]\n",
        "partial_y_train = train_labels[:5000]"
      ],
      "metadata": {
        "id": "vA18wZHM6BTl"
      },
      "execution_count": null,
      "outputs": []
    },
    {
      "cell_type": "code",
      "source": [
        "print(x_val.shape)\n",
        "print(y_val.shape)\n",
        "\n",
        "print(partial_x_train.shape)\n",
        "print(partial_y_train.shape)"
      ],
      "metadata": {
        "colab": {
          "base_uri": "https://localhost:8080/"
        },
        "id": "0iTaYeBAEskA",
        "outputId": "13a71e19-fc14-45d2-ff1c-51484137c6f0"
      },
      "execution_count": null,
      "outputs": [
        {
          "output_type": "stream",
          "name": "stdout",
          "text": [
            "(155058, 30)\n",
            "(155058, 41)\n",
            "(5000, 30)\n",
            "(5000, 41)\n"
          ]
        }
      ]
    },
    {
      "cell_type": "code",
      "source": [
        "history = model.fit(x_val,\n",
        "                    y_val,\n",
        "                    epochs=10,\n",
        "                    batch_size=256,\n",
        "                    validation_data=(partial_x_train, partial_y_train))"
      ],
      "metadata": {
        "colab": {
          "base_uri": "https://localhost:8080/"
        },
        "id": "zYPyv5YXCAtZ",
        "outputId": "564622ce-96b1-4c06-8fda-ac1b45886858"
      },
      "execution_count": null,
      "outputs": [
        {
          "output_type": "stream",
          "name": "stdout",
          "text": [
            "Epoch 1/10\n",
            "606/606 [==============================] - 15s 15ms/step - loss: 2.2402 - precision: 0.7559 - recall: 0.2551 - val_loss: 1.6609 - val_precision: 0.7835 - val_recall: 0.3850\n",
            "Epoch 2/10\n",
            "606/606 [==============================] - 8s 13ms/step - loss: 1.3968 - precision: 0.7897 - recall: 0.4833 - val_loss: 1.4494 - val_precision: 0.7639 - val_recall: 0.4768\n",
            "Epoch 3/10\n",
            "606/606 [==============================] - 8s 13ms/step - loss: 1.1000 - precision: 0.8122 - recall: 0.5843 - val_loss: 1.4190 - val_precision: 0.7519 - val_recall: 0.5060\n",
            "Epoch 4/10\n",
            "606/606 [==============================] - 8s 13ms/step - loss: 0.9055 - precision: 0.8383 - recall: 0.6551 - val_loss: 1.4563 - val_precision: 0.7186 - val_recall: 0.5364\n",
            "Epoch 5/10\n",
            "606/606 [==============================] - 8s 13ms/step - loss: 0.7568 - precision: 0.8602 - recall: 0.7101 - val_loss: 1.5166 - val_precision: 0.7030 - val_recall: 0.5464\n",
            "Epoch 6/10\n",
            "606/606 [==============================] - 8s 13ms/step - loss: 0.6332 - precision: 0.8798 - recall: 0.7573 - val_loss: 1.6291 - val_precision: 0.6746 - val_recall: 0.5406\n",
            "Epoch 7/10\n",
            "606/606 [==============================] - 8s 13ms/step - loss: 0.5285 - precision: 0.8995 - recall: 0.7990 - val_loss: 1.7469 - val_precision: 0.6586 - val_recall: 0.5494\n",
            "Epoch 8/10\n",
            "606/606 [==============================] - 8s 13ms/step - loss: 0.4415 - precision: 0.9168 - recall: 0.8336 - val_loss: 1.8768 - val_precision: 0.6464 - val_recall: 0.5494\n",
            "Epoch 9/10\n",
            "606/606 [==============================] - 8s 13ms/step - loss: 0.3654 - precision: 0.9303 - recall: 0.8628 - val_loss: 2.0308 - val_precision: 0.6357 - val_recall: 0.5534\n",
            "Epoch 10/10\n",
            "606/606 [==============================] - 8s 13ms/step - loss: 0.3014 - precision: 0.9437 - recall: 0.8892 - val_loss: 2.1772 - val_precision: 0.6213 - val_recall: 0.5480\n"
          ]
        }
      ]
    },
    {
      "cell_type": "markdown",
      "source": [
        "## Enhancement"
      ],
      "metadata": {
        "id": "t4d6zDy96BhF"
      }
    },
    {
      "cell_type": "code",
      "source": [
        "#over fit so used drop out also enhanced the model with biderictional\n",
        "model_lstm_bi = models.Sequential()\n",
        "model_lstm_bi.add(layers.Embedding(MAX_WORDS, EMB_SIZE, mask_zero=True, input_length=MAX_LEN))\n",
        "model_lstm_bi.add(layers.Dropout(0.7))\n",
        "model_lstm_bi.add(layers.Bidirectional(layers.LSTM(128)))\n",
        "model_lstm_bi.add(layers.Dense(41, activation='softmax'))\n",
        "model_lstm_bi.summary()"
      ],
      "metadata": {
        "id": "Bb80U7r_6DSh",
        "colab": {
          "base_uri": "https://localhost:8080/"
        },
        "outputId": "9dd91594-1870-4c9d-aec3-0d3045fc1101"
      },
      "execution_count": null,
      "outputs": [
        {
          "output_type": "stream",
          "name": "stdout",
          "text": [
            "Model: \"sequential_1\"\n",
            "_________________________________________________________________\n",
            " Layer (type)                Output Shape              Param #   \n",
            "=================================================================\n",
            " embedding_1 (Embedding)     (None, 30, 128)           5120000   \n",
            "                                                                 \n",
            " dropout (Dropout)           (None, 30, 128)           0         \n",
            "                                                                 \n",
            " bidirectional (Bidirectiona  (None, 256)              263168    \n",
            " l)                                                              \n",
            "                                                                 \n",
            " dense_1 (Dense)             (None, 41)                10537     \n",
            "                                                                 \n",
            "=================================================================\n",
            "Total params: 5,393,705\n",
            "Trainable params: 5,393,705\n",
            "Non-trainable params: 0\n",
            "_________________________________________________________________\n"
          ]
        }
      ]
    },
    {
      "cell_type": "code",
      "source": [
        "model_lstm_bi.compile(\n",
        "    loss='categorical_crossentropy',\n",
        "    optimizer='adam',\n",
        "    metrics=[ Precision(), Recall()]\n",
        ")"
      ],
      "metadata": {
        "id": "RuE6E17W6DuV"
      },
      "execution_count": null,
      "outputs": []
    },
    {
      "cell_type": "code",
      "source": [
        "history = model_lstm_bi.fit(x_val,\n",
        "                    y_val,\n",
        "                    epochs=10,\n",
        "                    batch_size=256,\n",
        "                    validation_data=(partial_x_train, partial_y_train))"
      ],
      "metadata": {
        "colab": {
          "base_uri": "https://localhost:8080/"
        },
        "id": "9j09R2ZFPrXr",
        "outputId": "1a5436da-ce1d-4910-9a68-2ba6ffcf89f3"
      },
      "execution_count": null,
      "outputs": [
        {
          "output_type": "stream",
          "name": "stdout",
          "text": [
            "Epoch 1/10\n",
            "606/606 [==============================] - 23s 26ms/step - loss: 2.2696 - precision_1: 0.7547 - recall_1: 0.2370 - val_loss: 1.6625 - val_precision_1: 0.7660 - val_recall_1: 0.3784\n",
            "Epoch 2/10\n",
            "606/606 [==============================] - 12s 20ms/step - loss: 1.5482 - precision_1: 0.7734 - recall_1: 0.4265 - val_loss: 1.4345 - val_precision_1: 0.7699 - val_recall_1: 0.4712\n",
            "Epoch 3/10\n",
            "606/606 [==============================] - 12s 20ms/step - loss: 1.3105 - precision_1: 0.7870 - recall_1: 0.5040 - val_loss: 1.3484 - val_precision_1: 0.7630 - val_recall_1: 0.5034\n",
            "Epoch 4/10\n",
            "606/606 [==============================] - 12s 20ms/step - loss: 1.1770 - precision_1: 0.7964 - recall_1: 0.5490 - val_loss: 1.3148 - val_precision_1: 0.7598 - val_recall_1: 0.5258\n",
            "Epoch 5/10\n",
            "606/606 [==============================] - 12s 20ms/step - loss: 1.0797 - precision_1: 0.8042 - recall_1: 0.5818 - val_loss: 1.3026 - val_precision_1: 0.7452 - val_recall_1: 0.5550\n",
            "Epoch 6/10\n",
            "606/606 [==============================] - 12s 20ms/step - loss: 1.0046 - precision_1: 0.8111 - recall_1: 0.6091 - val_loss: 1.3118 - val_precision_1: 0.7338 - val_recall_1: 0.5600\n",
            "Epoch 7/10\n",
            "606/606 [==============================] - 12s 20ms/step - loss: 0.9443 - precision_1: 0.8180 - recall_1: 0.6313 - val_loss: 1.3136 - val_precision_1: 0.7289 - val_recall_1: 0.5722\n",
            "Epoch 8/10\n",
            "606/606 [==============================] - 12s 20ms/step - loss: 0.8921 - precision_1: 0.8237 - recall_1: 0.6493 - val_loss: 1.3178 - val_precision_1: 0.7259 - val_recall_1: 0.5746\n",
            "Epoch 9/10\n",
            "606/606 [==============================] - 12s 20ms/step - loss: 0.8498 - precision_1: 0.8303 - recall_1: 0.6646 - val_loss: 1.3290 - val_precision_1: 0.7277 - val_recall_1: 0.5836\n",
            "Epoch 10/10\n",
            "606/606 [==============================] - 12s 20ms/step - loss: 0.8109 - precision_1: 0.8360 - recall_1: 0.6792 - val_loss: 1.3418 - val_precision_1: 0.7161 - val_recall_1: 0.5906\n"
          ]
        }
      ]
    },
    {
      "cell_type": "code",
      "source": [
        ""
      ],
      "metadata": {
        "id": "f8YZw1iuRG2l"
      },
      "execution_count": null,
      "outputs": []
    },
    {
      "cell_type": "markdown",
      "source": [
        "## Final Results and Conclusion"
      ],
      "metadata": {
        "id": "20Av1Qnr6Exd"
      }
    },
    {
      "cell_type": "code",
      "source": [
        "...\n",
        "# list all data in history\n",
        "print(history.history.keys())"
      ],
      "metadata": {
        "colab": {
          "base_uri": "https://localhost:8080/"
        },
        "id": "OkwYn_jkVP3A",
        "outputId": "dbb16fae-5bb5-4794-de8a-2bb141815fb5"
      },
      "execution_count": null,
      "outputs": [
        {
          "output_type": "stream",
          "name": "stdout",
          "text": [
            "dict_keys(['loss', 'precision_1', 'recall_1', 'val_loss', 'val_precision_1', 'val_recall_1'])\n"
          ]
        }
      ]
    },
    {
      "cell_type": "code",
      "source": [
        "per = history.history['precision_1']\n",
        "val_per = history.history['val_precision_1']\n",
        "loss = history.history['loss']\n",
        "val_loss = history.history['val_loss']\n",
        "\n",
        "epochs = range(1, len(per) + 1)\n",
        "\n",
        "# \"bo\" is for \"blue dot\"\n",
        "plt.plot(epochs, loss, 'bo', label='Training loss')\n",
        "# b is for \"solid blue line\"\n",
        "plt.plot(epochs, val_loss, 'b', label='Validation loss')\n",
        "plt.title('Training and validation loss')\n",
        "plt.xlabel('Epochs')\n",
        "plt.ylabel('Loss')\n",
        "plt.legend()\n",
        "\n",
        "plt.show()"
      ],
      "metadata": {
        "colab": {
          "base_uri": "https://localhost:8080/",
          "height": 295
        },
        "id": "gvK8wfFNPmmi",
        "outputId": "bca30ccd-7d78-4161-9171-5aaf39c2841f"
      },
      "execution_count": null,
      "outputs": [
        {
          "output_type": "display_data",
          "data": {
            "text/plain": [
              "<Figure size 432x288 with 1 Axes>"
            ],
            "image/png": "[encoded data removed]"
          },
          "metadata": {
            "needs_background": "light"
          }
        }
      ]
    },
    {
      "cell_type": "code",
      "source": [
        "epochs = range(1, len(per) + 1)\n",
        "\n",
        "# \"bo\" is for \"blue dot\"\n",
        "plt.plot(epochs, per, 'bo', label='Training precession ')\n",
        "# b is for \"solid blue line\"\n",
        "plt.plot(epochs, val_per, 'b', label='Validation precession')\n",
        "plt.title('Training and validation precession')\n",
        "plt.xlabel('Epochs')\n",
        "plt.ylabel('Loss')\n",
        "plt.legend()\n",
        "plt.show()"
      ],
      "metadata": {
        "id": "1yFOIlYX6EZd",
        "colab": {
          "base_uri": "https://localhost:8080/",
          "height": 295
        },
        "outputId": "f31b220f-7563-4090-b048-e6daac86aea3"
      },
      "execution_count": null,
      "outputs": [
        {
          "output_type": "display_data",
          "data": {
            "text/plain": [
              "<Figure size 432x288 with 1 Axes>"
            ],
            "image/png": "[encoded data removed]"
          },
          "metadata": {
            "needs_background": "light"
          }
        }
      ]
    },
    {
      "cell_type": "code",
      "source": [
        "recall = history.history['recall_1']\n",
        "val_recall = history.history['val_recall_1']\n",
        "\n",
        "epochs = range(1, len(per) + 1)\n",
        "\n",
        "# \"bo\" is for \"blue dot\"\n",
        "plt.plot(epochs, recall, 'bo', label='Training recall')\n",
        "# b is for \"solid blue line\"\n",
        "plt.plot(epochs, val_recall, 'b', label='Validation recall')\n",
        "plt.title('Training and validation recall')\n",
        "plt.xlabel('Epochs')\n",
        "plt.ylabel('recall')\n",
        "plt.legend()\n",
        "\n",
        "plt.show()"
      ],
      "metadata": {
        "id": "L9qtOqBB6J8c",
        "colab": {
          "base_uri": "https://localhost:8080/",
          "height": 295
        },
        "outputId": "7b35be9d-c34e-4574-b615-6be49c1050eb"
      },
      "execution_count": null,
      "outputs": [
        {
          "output_type": "display_data",
          "data": {
            "text/plain": [
              "<Figure size 432x288 with 1 Axes>"
            ],
            "image/png": "[encoded data removed]"
          },
          "metadata": {
            "needs_background": "light"
          }
        }
      ]
    },
    {
      "cell_type": "code",
      "source": [
        "test_loss, test_pre,test_recall = model_lstm_bi.evaluate(test_padded, test_labels)"
      ],
      "metadata": {
        "colab": {
          "base_uri": "https://localhost:8080/"
        },
        "id": "EAGm7_FrWoNA",
        "outputId": "bee88021-c8cc-4a6f-d16d-a42b5f439ce5"
      },
      "execution_count": null,
      "outputs": [
        {
          "output_type": "stream",
          "name": "stdout",
          "text": [
            "1251/1251 [==============================] - 8s 7ms/step - loss: 1.3358 - precision_1: 0.7179 - recall_1: 0.5888\n"
          ]
        }
      ]
    },
    {
      "cell_type": "markdown",
      "source": [
        "## Best Wishes\n",
        "\n",
        "\n",
        "## Again: Delivery through this [form](https://forms.gle/PshJQw2bTa48Ligz7)"
      ],
      "metadata": {
        "id": "n6bbwZcA6Kcy"
      }
    }
  ],
  "metadata": {
    "kernelspec": {
      "display_name": "Python 3",
      "language": "python",
      "name": "python3"
    },
    "language_info": {
      "codemirror_mode": {
        "name": "ipython",
        "version": 3
      },
      "file_extension": ".py",
      "mimetype": "text/x-python",
      "name": "python",
      "nbconvert_exporter": "python",
      "pygments_lexer": "ipython3",
      "version": "3.8.5"
    },
    "colab": {
      "name": "Copy of NLP Final Task.ipynb",
      "provenance": [],
      "collapsed_sections": [],
      "include_colab_link": true
    },
    "accelerator": "GPU",
    "gpuClass": "standard"
  },
  "nbformat": 4,
  "nbformat_minor": 0
}